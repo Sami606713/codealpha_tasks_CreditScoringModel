{
 "cells": [
  {
   "cell_type": "markdown",
   "id": "7be04f86-eb16-4acb-874b-b11d1ac15868",
   "metadata": {},
   "source": [
    "# import packages"
   ]
  },
  {
   "cell_type": "code",
   "execution_count": 6,
   "id": "f1c17c98-3216-47b3-b6a1-e788971cf25c",
   "metadata": {},
   "outputs": [],
   "source": [
    "import pandas as pd\n",
    "import numpy as np\n",
    "import matplotlib.pyplot as plt\n",
    "import seaborn as sns\n",
    "import pickle as pkl"
   ]
  },
  {
   "cell_type": "code",
   "execution_count": 8,
   "id": "6b715df7-23e3-416d-85e5-e33f201a03f3",
   "metadata": {},
   "outputs": [],
   "source": [
    "# Load processor"
   ]
  },
  {
   "cell_type": "code",
   "execution_count": 14,
   "id": "354684a5-c51f-447d-b2b5-3b25a4a10ac5",
   "metadata": {},
   "outputs": [],
   "source": [
    "with open(\"processor.pkl\",\"rb\")as f:\n",
    "    processor=pkl.load(f)"
   ]
  },
  {
   "cell_type": "markdown",
   "id": "886cefaa-0dd9-4c6e-ad31-d29cea28e7ea",
   "metadata": {},
   "source": [
    "# laod model"
   ]
  },
  {
   "cell_type": "code",
   "execution_count": 19,
   "id": "44e1a6cf-e5ba-4576-991f-47a771965c75",
   "metadata": {},
   "outputs": [],
   "source": [
    "with open(\"final_model.pkl\",\"rb\")as f:\n",
    "    model=pkl.load(f)"
   ]
  },
  {
   "cell_type": "markdown",
   "id": "4412c4da-7ee2-40af-97f8-d716ad926f55",
   "metadata": {},
   "source": [
    "# Load the test  data"
   ]
  },
  {
   "cell_type": "code",
   "execution_count": 22,
   "id": "cd425854-0b0f-4e3e-ac89-8d850cbe8761",
   "metadata": {},
   "outputs": [
    {
     "data": {
      "text/html": [
       "<div>\n",
       "<style scoped>\n",
       "    .dataframe tbody tr th:only-of-type {\n",
       "        vertical-align: middle;\n",
       "    }\n",
       "\n",
       "    .dataframe tbody tr th {\n",
       "        vertical-align: top;\n",
       "    }\n",
       "\n",
       "    .dataframe thead th {\n",
       "        text-align: right;\n",
       "    }\n",
       "</style>\n",
       "<table border=\"1\" class=\"dataframe\">\n",
       "  <thead>\n",
       "    <tr style=\"text-align: right;\">\n",
       "      <th></th>\n",
       "      <th>Age</th>\n",
       "      <th>Sex</th>\n",
       "      <th>Job</th>\n",
       "      <th>Housing</th>\n",
       "      <th>Saving accounts</th>\n",
       "      <th>Checking account</th>\n",
       "      <th>Credit amount</th>\n",
       "      <th>Duration</th>\n",
       "      <th>Purpose</th>\n",
       "    </tr>\n",
       "  </thead>\n",
       "  <tbody>\n",
       "    <tr>\n",
       "      <th>0</th>\n",
       "      <td>45</td>\n",
       "      <td>female</td>\n",
       "      <td>3</td>\n",
       "      <td>own</td>\n",
       "      <td>moderate</td>\n",
       "      <td>rich</td>\n",
       "      <td>4500</td>\n",
       "      <td>36</td>\n",
       "      <td>radio/TV</td>\n",
       "    </tr>\n",
       "    <tr>\n",
       "      <th>1</th>\n",
       "      <td>29</td>\n",
       "      <td>male</td>\n",
       "      <td>1</td>\n",
       "      <td>rent</td>\n",
       "      <td>little</td>\n",
       "      <td>moderate</td>\n",
       "      <td>2320</td>\n",
       "      <td>12</td>\n",
       "      <td>car</td>\n",
       "    </tr>\n",
       "    <tr>\n",
       "      <th>2</th>\n",
       "      <td>61</td>\n",
       "      <td>female</td>\n",
       "      <td>2</td>\n",
       "      <td>own</td>\n",
       "      <td>rich</td>\n",
       "      <td>little</td>\n",
       "      <td>12000</td>\n",
       "      <td>24</td>\n",
       "      <td>education</td>\n",
       "    </tr>\n",
       "    <tr>\n",
       "      <th>3</th>\n",
       "      <td>35</td>\n",
       "      <td>male</td>\n",
       "      <td>4</td>\n",
       "      <td>free</td>\n",
       "      <td>little</td>\n",
       "      <td>NaN</td>\n",
       "      <td>5600</td>\n",
       "      <td>48</td>\n",
       "      <td>furniture/equipment</td>\n",
       "    </tr>\n",
       "    <tr>\n",
       "      <th>4</th>\n",
       "      <td>50</td>\n",
       "      <td>female</td>\n",
       "      <td>2</td>\n",
       "      <td>rent</td>\n",
       "      <td>NaN</td>\n",
       "      <td>rich</td>\n",
       "      <td>3300</td>\n",
       "      <td>18</td>\n",
       "      <td>business</td>\n",
       "    </tr>\n",
       "  </tbody>\n",
       "</table>\n",
       "</div>"
      ],
      "text/plain": [
       "   Age     Sex  Job Housing Saving accounts Checking account  Credit amount  \\\n",
       "0   45  female    3     own        moderate             rich           4500   \n",
       "1   29    male    1    rent          little         moderate           2320   \n",
       "2   61  female    2     own            rich           little          12000   \n",
       "3   35    male    4    free          little              NaN           5600   \n",
       "4   50  female    2    rent             NaN             rich           3300   \n",
       "\n",
       "   Duration              Purpose  \n",
       "0        36             radio/TV  \n",
       "1        12                  car  \n",
       "2        24            education  \n",
       "3        48  furniture/equipment  \n",
       "4        18             business  "
      ]
     },
     "execution_count": 22,
     "metadata": {},
     "output_type": "execute_result"
    }
   ],
   "source": [
    "# Define the test data\n",
    "test_data = {\n",
    "    'Age': [45, 29, 61, 35, 50],\n",
    "    'Sex': ['female', 'male', 'female', 'male', 'female'],\n",
    "    'Job': [3, 1, 2, 4, 2],\n",
    "    'Housing': ['own', 'rent', 'own', 'free', 'rent'],\n",
    "    'Saving accounts': ['moderate', 'little', 'rich', 'little', 'NaN'],\n",
    "    'Checking account': ['rich', 'moderate', 'little', 'NaN', 'rich'],\n",
    "    'Credit amount': [4500, 2320, 12000, 5600, 3300],\n",
    "    'Duration': [36, 12, 24, 48, 18],\n",
    "    'Purpose': ['radio/TV', 'car', 'education', 'furniture/equipment', 'business']\n",
    "}\n",
    "\n",
    "# Create a DataFrame\n",
    "test_df = pd.DataFrame(test_data)\n",
    "\n",
    "# Display the test DataFrame\n",
    "test_df"
   ]
  },
  {
   "cell_type": "markdown",
   "id": "3ea01d0f-890b-430e-af9b-1c6268562ffc",
   "metadata": {},
   "source": [
    "# Prediction"
   ]
  },
  {
   "cell_type": "code",
   "execution_count": 33,
   "id": "06c55a85-bb26-484b-965d-adf2a576f9a5",
   "metadata": {},
   "outputs": [
    {
     "name": "stderr",
     "output_type": "stream",
     "text": [
      "C:\\Users\\Manan Computer\\anaconda3\\Lib\\site-packages\\sklearn\\preprocessing\\_encoders.py:241: UserWarning: Found unknown categories in columns [2, 3, 4] during transform. These unknown categories will be encoded as all zeros\n",
      "  warnings.warn(\n"
     ]
    },
    {
     "data": {
      "text/plain": [
       "array([1, 1, 0, 0, 1], dtype=int64)"
      ]
     },
     "execution_count": 33,
     "metadata": {},
     "output_type": "execute_result"
    }
   ],
   "source": [
    "model.predict(test_df)"
   ]
  },
  {
   "cell_type": "markdown",
   "id": "06e047e7-af88-4f75-a4ab-d3ccfd44db37",
   "metadata": {},
   "source": [
    "# Observation\n",
    "- Finally model can not only prediction  but also can handle the missing values."
   ]
  },
  {
   "cell_type": "code",
   "execution_count": null,
   "id": "edf5f999-3b01-4fba-af5d-44dc1bd17044",
   "metadata": {},
   "outputs": [],
   "source": []
  }
 ],
 "metadata": {
  "kernelspec": {
   "display_name": "Python 3 (ipykernel)",
   "language": "python",
   "name": "python3"
  },
  "language_info": {
   "codemirror_mode": {
    "name": "ipython",
    "version": 3
   },
   "file_extension": ".py",
   "mimetype": "text/x-python",
   "name": "python",
   "nbconvert_exporter": "python",
   "pygments_lexer": "ipython3",
   "version": "3.12.4"
  }
 },
 "nbformat": 4,
 "nbformat_minor": 5
}
